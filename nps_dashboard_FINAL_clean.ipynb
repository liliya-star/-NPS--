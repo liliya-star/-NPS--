{
 "cells": [
  {
   "cell_type": "markdown",
   "id": "9b3bb792",
   "metadata": {},
   "source": [
    "# 🧭 Анализ текущего уровня потребительской лояльности по результатам NPS-опросов\n",
    "\n",
    "Исследование проводилось для крупной телекоммуникационной компании, работающей на территории СНГ.  \n",
    "**Цель** — определить уровень лояльности (NPS) среди клиентов из России и построить дашборд, на основе которого можно анализировать пользовательское поведение и выделять наиболее лояльные группы.\n",
    "\n",
    "---\n",
    "\n",
    "### 📊 Ссылка на дашборд в Tableau:  \n",
    "[https://public.tableau.com/app/profile/liliy4269/viz/project2_16743192457890/Dashboard1](https://public.tableau.com/app/profile/liliy4269/viz/project2_16743192457890/Dashboard1)\n",
    "\n",
    "### 📄 Презентация (PDF):  \n",
    "[Скачать презентацию](https://disk.yandex.ru/i/67v8XvoJ4XLngQ)\n"
   ]
  },
  {
   "cell_type": "code",
   "execution_count": null,
   "id": "a85dcc7b",
   "metadata": {
    "id": "a85dcc7b"
   },
   "outputs": [],
   "source": [
    "import pandas as pd\n",
    "import numpy as np\n",
    "\n",
    "from sqlalchemy import create_engine"
   ]
  },
  {
   "cell_type": "markdown",
   "id": "a5482ea7",
   "metadata": {
    "id": "a5482ea7"
   },
   "source": [
    "<div class=\"alert alert-info\">Подключаемся к базе данных"
   ]
  },
  {
   "cell_type": "code",
   "execution_count": null,
   "id": "c7973d7f",
   "metadata": {
    "id": "c7973d7f"
   },
   "outputs": [],
   "source": [
    "path_to_db = '/datasets/telecomm_csi.db'\n",
    "engine = create_engine(f'sqlite:///{path_to_db}', echo = False)"
   ]
  },
  {
   "cell_type": "markdown",
   "id": "d0a065b8",
   "metadata": {
    "id": "d0a065b8"
   },
   "source": [
    "<div class=\"alert alert-info\">Сохраняем данные в датафрейм. Учтем сразу наличие пропусков в age age_segment, удалим эти строки, так акк их количество не большое и значительного влияние не окажет"
   ]
  },
  {
   "cell_type": "code",
   "execution_count": null,
   "id": "3b81c4fa",
   "metadata": {
    "id": "3b81c4fa"
   },
   "outputs": [],
   "source": [
    "#query = \"\"\"\n",
    "#SELECT * FROM location;\n",
    "#\"\"\""
   ]
  },
  {
   "cell_type": "code",
   "execution_count": null,
   "id": "4ccc50d3",
   "metadata": {
    "id": "4ccc50d3"
   },
   "outputs": [],
   "source": [
    "query = \"\"\"\n",
    "SELECT u.user_id,\n",
    "       u.lt_day,\n",
    "       CASE\n",
    "           WHEN u.lt_day <= 365 THEN 'новый'\n",
    "           WHEN u.lt_day > 365 THEN 'старый'\n",
    "       END AS is_new,\n",
    "       age,\n",
    "       CASE\n",
    "           WHEN u.gender_segment == 0 THEN 'мужчина'\n",
    "           WHEN u.gender_segment == 1 THEN 'женщина'\n",
    "       END AS gender_segment,\n",
    "       u.os_name,\n",
    "       u.cpe_type_name,\n",
    "       l.country,\n",
    "       l.city,\n",
    "       SUBSTR(a_s.title, 4, 8) AS age_segment,\n",
    "       SUBSTR(t_s.title, 4, 8) AS traffic_segment,\n",
    "       SUBSTR(l_s.title, 4, 8) AS lifetime_segment,\n",
    "       u.nps_score,\n",
    "       CASE\n",
    "           WHEN u.nps_score >= 9 THEN 'сторонники'\n",
    "           WHEN u.nps_score == 7 OR nps_score ==8 THEN 'нейтралы'\n",
    "           WHEN u.nps_score < 7 THEN 'критики'\n",
    "       END AS nps_group\n",
    "FROM user AS u\n",
    "LEFT JOIN location AS l ON u.location_id=l.location_id\n",
    "LEFT JOIN age_segment AS a_s ON u.age_gr_id=a_s.age_gr_id\n",
    "LEFT JOIN traffic_segment AS t_s ON u.tr_gr_id=t_s.tr_gr_id\n",
    "LEFT JOIN lifetime_segment AS l_s ON u.lt_gr_id=l_s.lt_gr_id\n",
    "WHERE age IS NOT NULL AND gender_segment IS NOT NULL;\n",
    "\"\"\""
   ]
  },
  {
   "cell_type": "code",
   "execution_count": null,
   "id": "ddd81cf9",
   "metadata": {
    "id": "ddd81cf9",
    "outputId": "0bc9f4b9-01f6-4490-c7cf-675ea96f45f2",
    "scrolled": true
   },
   "outputs": [
    {
     "data": {
      "text/html": [
       "<div>\n",
       "<style scoped>\n",
       "    .dataframe tbody tr th:only-of-type {\n",
       "        vertical-align: middle;\n",
       "    }\n",
       "\n",
       "    .dataframe tbody tr th {\n",
       "        vertical-align: top;\n",
       "    }\n",
       "\n",
       "    .dataframe thead th {\n",
       "        text-align: right;\n",
       "    }\n",
       "</style>\n",
       "<table border=\"1\" class=\"dataframe\">\n",
       "  <thead>\n",
       "    <tr style=\"text-align: right;\">\n",
       "      <th></th>\n",
       "      <th>user_id</th>\n",
       "      <th>lt_day</th>\n",
       "      <th>is_new</th>\n",
       "      <th>age</th>\n",
       "      <th>gender_segment</th>\n",
       "      <th>os_name</th>\n",
       "      <th>cpe_type_name</th>\n",
       "      <th>country</th>\n",
       "      <th>city</th>\n",
       "      <th>age_segment</th>\n",
       "      <th>traffic_segment</th>\n",
       "      <th>lifetime_segment</th>\n",
       "      <th>nps_score</th>\n",
       "      <th>nps_group</th>\n",
       "    </tr>\n",
       "  </thead>\n",
       "  <tbody>\n",
       "    <tr>\n",
       "      <th>0</th>\n",
       "      <td>A001A2</td>\n",
       "      <td>2320</td>\n",
       "      <td>старый</td>\n",
       "      <td>45.0</td>\n",
       "      <td>женщина</td>\n",
       "      <td>ANDROID</td>\n",
       "      <td>SMARTPHONE</td>\n",
       "      <td>Россия</td>\n",
       "      <td>Уфа</td>\n",
       "      <td>45-54</td>\n",
       "      <td>1-5</td>\n",
       "      <td>36+</td>\n",
       "      <td>10</td>\n",
       "      <td>сторонники</td>\n",
       "    </tr>\n",
       "    <tr>\n",
       "      <th>1</th>\n",
       "      <td>A001WF</td>\n",
       "      <td>2344</td>\n",
       "      <td>старый</td>\n",
       "      <td>53.0</td>\n",
       "      <td>мужчина</td>\n",
       "      <td>ANDROID</td>\n",
       "      <td>SMARTPHONE</td>\n",
       "      <td>Россия</td>\n",
       "      <td>Киров</td>\n",
       "      <td>45-54</td>\n",
       "      <td>1-5</td>\n",
       "      <td>36+</td>\n",
       "      <td>10</td>\n",
       "      <td>сторонники</td>\n",
       "    </tr>\n",
       "    <tr>\n",
       "      <th>2</th>\n",
       "      <td>A003Q7</td>\n",
       "      <td>467</td>\n",
       "      <td>старый</td>\n",
       "      <td>57.0</td>\n",
       "      <td>мужчина</td>\n",
       "      <td>ANDROID</td>\n",
       "      <td>SMARTPHONE</td>\n",
       "      <td>Россия</td>\n",
       "      <td>Москва</td>\n",
       "      <td>55-64</td>\n",
       "      <td>20-25</td>\n",
       "      <td>13-24</td>\n",
       "      <td>10</td>\n",
       "      <td>сторонники</td>\n",
       "    </tr>\n",
       "    <tr>\n",
       "      <th>3</th>\n",
       "      <td>A004TB</td>\n",
       "      <td>4190</td>\n",
       "      <td>старый</td>\n",
       "      <td>44.0</td>\n",
       "      <td>женщина</td>\n",
       "      <td>IOS</td>\n",
       "      <td>SMARTPHONE</td>\n",
       "      <td>Россия</td>\n",
       "      <td>РостовнаДону</td>\n",
       "      <td>35-44</td>\n",
       "      <td>0.1-1</td>\n",
       "      <td>36+</td>\n",
       "      <td>10</td>\n",
       "      <td>сторонники</td>\n",
       "    </tr>\n",
       "    <tr>\n",
       "      <th>4</th>\n",
       "      <td>A004XT</td>\n",
       "      <td>1163</td>\n",
       "      <td>старый</td>\n",
       "      <td>24.0</td>\n",
       "      <td>мужчина</td>\n",
       "      <td>ANDROID</td>\n",
       "      <td>SMARTPHONE</td>\n",
       "      <td>Россия</td>\n",
       "      <td>Рязань</td>\n",
       "      <td>16-24</td>\n",
       "      <td>5-10</td>\n",
       "      <td>36+</td>\n",
       "      <td>10</td>\n",
       "      <td>сторонники</td>\n",
       "    </tr>\n",
       "    <tr>\n",
       "      <th>5</th>\n",
       "      <td>A005O0</td>\n",
       "      <td>5501</td>\n",
       "      <td>старый</td>\n",
       "      <td>42.0</td>\n",
       "      <td>женщина</td>\n",
       "      <td>ANDROID</td>\n",
       "      <td>SMARTPHONE</td>\n",
       "      <td>Россия</td>\n",
       "      <td>Омск</td>\n",
       "      <td>35-44</td>\n",
       "      <td>5-10</td>\n",
       "      <td>36+</td>\n",
       "      <td>6</td>\n",
       "      <td>критики</td>\n",
       "    </tr>\n",
       "    <tr>\n",
       "      <th>6</th>\n",
       "      <td>A0061R</td>\n",
       "      <td>1236</td>\n",
       "      <td>старый</td>\n",
       "      <td>45.0</td>\n",
       "      <td>мужчина</td>\n",
       "      <td>ANDROID</td>\n",
       "      <td>SMARTPHONE</td>\n",
       "      <td>Россия</td>\n",
       "      <td>Уфа</td>\n",
       "      <td>45-54</td>\n",
       "      <td>10-15</td>\n",
       "      <td>36+</td>\n",
       "      <td>10</td>\n",
       "      <td>сторонники</td>\n",
       "    </tr>\n",
       "    <tr>\n",
       "      <th>7</th>\n",
       "      <td>A009KS</td>\n",
       "      <td>313</td>\n",
       "      <td>новый</td>\n",
       "      <td>35.0</td>\n",
       "      <td>мужчина</td>\n",
       "      <td>ANDROID</td>\n",
       "      <td>SMARTPHONE</td>\n",
       "      <td>Россия</td>\n",
       "      <td>Москва</td>\n",
       "      <td>35-44</td>\n",
       "      <td>45-50</td>\n",
       "      <td>7-12</td>\n",
       "      <td>10</td>\n",
       "      <td>сторонники</td>\n",
       "    </tr>\n",
       "    <tr>\n",
       "      <th>8</th>\n",
       "      <td>A00AES</td>\n",
       "      <td>3238</td>\n",
       "      <td>старый</td>\n",
       "      <td>36.0</td>\n",
       "      <td>женщина</td>\n",
       "      <td>ANDROID</td>\n",
       "      <td>SMARTPHONE</td>\n",
       "      <td>Россия</td>\n",
       "      <td>СанктПетербург</td>\n",
       "      <td>35-44</td>\n",
       "      <td>1-5</td>\n",
       "      <td>36+</td>\n",
       "      <td>10</td>\n",
       "      <td>сторонники</td>\n",
       "    </tr>\n",
       "    <tr>\n",
       "      <th>9</th>\n",
       "      <td>A00F70</td>\n",
       "      <td>4479</td>\n",
       "      <td>старый</td>\n",
       "      <td>54.0</td>\n",
       "      <td>женщина</td>\n",
       "      <td>ANDROID</td>\n",
       "      <td>SMARTPHONE</td>\n",
       "      <td>Россия</td>\n",
       "      <td>Волгоград</td>\n",
       "      <td>45-54</td>\n",
       "      <td>15-20</td>\n",
       "      <td>36+</td>\n",
       "      <td>9</td>\n",
       "      <td>сторонники</td>\n",
       "    </tr>\n",
       "  </tbody>\n",
       "</table>\n",
       "</div>"
      ],
      "text/plain": [
       "  user_id  lt_day  is_new   age gender_segment  os_name cpe_type_name country  \\\n",
       "0  A001A2    2320  старый  45.0        женщина  ANDROID    SMARTPHONE  Россия   \n",
       "1  A001WF    2344  старый  53.0        мужчина  ANDROID    SMARTPHONE  Россия   \n",
       "2  A003Q7     467  старый  57.0        мужчина  ANDROID    SMARTPHONE  Россия   \n",
       "3  A004TB    4190  старый  44.0        женщина      IOS    SMARTPHONE  Россия   \n",
       "4  A004XT    1163  старый  24.0        мужчина  ANDROID    SMARTPHONE  Россия   \n",
       "5  A005O0    5501  старый  42.0        женщина  ANDROID    SMARTPHONE  Россия   \n",
       "6  A0061R    1236  старый  45.0        мужчина  ANDROID    SMARTPHONE  Россия   \n",
       "7  A009KS     313   новый  35.0        мужчина  ANDROID    SMARTPHONE  Россия   \n",
       "8  A00AES    3238  старый  36.0        женщина  ANDROID    SMARTPHONE  Россия   \n",
       "9  A00F70    4479  старый  54.0        женщина  ANDROID    SMARTPHONE  Россия   \n",
       "\n",
       "             city age_segment traffic_segment lifetime_segment  nps_score  \\\n",
       "0             Уфа       45-54             1-5              36+         10   \n",
       "1           Киров       45-54             1-5              36+         10   \n",
       "2          Москва       55-64           20-25            13-24         10   \n",
       "3    РостовнаДону       35-44           0.1-1              36+         10   \n",
       "4          Рязань       16-24            5-10              36+         10   \n",
       "5            Омск       35-44            5-10              36+          6   \n",
       "6             Уфа       45-54           10-15              36+         10   \n",
       "7          Москва       35-44           45-50             7-12         10   \n",
       "8  СанктПетербург       35-44             1-5              36+         10   \n",
       "9       Волгоград       45-54           15-20              36+          9   \n",
       "\n",
       "    nps_group  \n",
       "0  сторонники  \n",
       "1  сторонники  \n",
       "2  сторонники  \n",
       "3  сторонники  \n",
       "4  сторонники  \n",
       "5     критики  \n",
       "6  сторонники  \n",
       "7  сторонники  \n",
       "8  сторонники  \n",
       "9  сторонники  "
      ]
     },
     "execution_count": 5,
     "metadata": {},
     "output_type": "execute_result"
    }
   ],
   "source": [
    "df = pd.read_sql(query, engine)\n",
    "df.head(10)"
   ]
  },
  {
   "cell_type": "code",
   "execution_count": null,
   "id": "3e34c37a",
   "metadata": {
    "id": "3e34c37a",
    "outputId": "b227e53f-7d55-4645-84cd-5dbd5cb7f532"
   },
   "outputs": [
    {
     "name": "stdout",
     "output_type": "stream",
     "text": [
      "<class 'pandas.core.frame.DataFrame'>\n",
      "RangeIndex: 501152 entries, 0 to 501151\n",
      "Data columns (total 14 columns):\n",
      " #   Column            Non-Null Count   Dtype  \n",
      "---  ------            --------------   -----  \n",
      " 0   user_id           501152 non-null  object \n",
      " 1   lt_day            501152 non-null  int64  \n",
      " 2   is_new            501152 non-null  object \n",
      " 3   age               501152 non-null  float64\n",
      " 4   gender_segment    501152 non-null  object \n",
      " 5   os_name           501152 non-null  object \n",
      " 6   cpe_type_name     501152 non-null  object \n",
      " 7   country           501152 non-null  object \n",
      " 8   city              501152 non-null  object \n",
      " 9   age_segment       501152 non-null  object \n",
      " 10  traffic_segment   501152 non-null  object \n",
      " 11  lifetime_segment  501152 non-null  object \n",
      " 12  nps_score         501152 non-null  int64  \n",
      " 13  nps_group         501152 non-null  object \n",
      "dtypes: float64(1), int64(2), object(11)\n",
      "memory usage: 53.5+ MB\n"
     ]
    }
   ],
   "source": [
    "df.info()"
   ]
  },
  {
   "cell_type": "code",
   "execution_count": null,
   "id": "28837c13",
   "metadata": {
    "id": "28837c13"
   },
   "outputs": [],
   "source": [
    "df.to_csv('telecomm_csi_tableau.csv', index=False)"
   ]
  }
 ],
 "metadata": {
  "ExecuteTimeLog": [
   {
    "duration": 752,
    "start_time": "2021-10-03T17:40:52.731Z"
   },
   {
    "duration": 20,
    "start_time": "2021-10-03T17:40:53.486Z"
   },
   {
    "duration": 4,
    "start_time": "2021-10-03T17:41:04.638Z"
   },
   {
    "duration": 461,
    "start_time": "2021-10-03T17:41:04.912Z"
   },
   {
    "duration": 284,
    "start_time": "2021-10-03T17:41:05.376Z"
   },
   {
    "duration": 574,
    "start_time": "2021-10-06T07:55:05.029Z"
   },
   {
    "duration": 6,
    "start_time": "2021-10-06T07:55:05.605Z"
   },
   {
    "duration": 3,
    "start_time": "2021-10-06T07:55:14.685Z"
   },
   {
    "duration": 406,
    "start_time": "2021-10-06T07:55:15.522Z"
   },
   {
    "duration": 67,
    "start_time": "2021-10-06T07:55:15.929Z"
   },
   {
    "duration": 840,
    "start_time": "2021-10-07T07:54:04.647Z"
   },
   {
    "duration": 10,
    "start_time": "2021-10-07T07:54:05.490Z"
   },
   {
    "duration": 4,
    "start_time": "2021-10-07T07:54:05.544Z"
   },
   {
    "duration": 391,
    "start_time": "2021-10-07T07:54:06.237Z"
   },
   {
    "duration": 293,
    "start_time": "2021-10-07T07:54:06.654Z"
   },
   {
    "duration": 598,
    "start_time": "2023-01-20T05:53:48.828Z"
   },
   {
    "duration": 42,
    "start_time": "2023-01-20T05:53:49.429Z"
   },
   {
    "duration": 3,
    "start_time": "2023-01-20T05:53:49.473Z"
   },
   {
    "duration": 646,
    "start_time": "2023-01-20T05:53:49.478Z"
   },
   {
    "duration": 53,
    "start_time": "2023-01-20T05:53:50.126Z"
   },
   {
    "duration": 50,
    "start_time": "2023-01-20T06:10:55.676Z"
   },
   {
    "duration": 60,
    "start_time": "2023-01-20T06:35:52.392Z"
   },
   {
    "duration": 3,
    "start_time": "2023-01-20T06:40:10.354Z"
   },
   {
    "duration": 6,
    "start_time": "2023-01-20T06:40:14.736Z"
   },
   {
    "duration": 3,
    "start_time": "2023-01-20T06:40:21.688Z"
   },
   {
    "duration": 6210,
    "start_time": "2023-01-20T06:40:25.755Z"
   },
   {
    "duration": 582,
    "start_time": "2023-01-20T06:40:32.945Z"
   },
   {
    "duration": 5012,
    "start_time": "2023-01-20T06:40:38.664Z"
   },
   {
    "duration": 567,
    "start_time": "2023-01-22T07:01:26.765Z"
   },
   {
    "duration": 12,
    "start_time": "2023-01-22T07:01:27.334Z"
   },
   {
    "duration": 22,
    "start_time": "2023-01-22T07:01:27.354Z"
   },
   {
    "duration": 41,
    "start_time": "2023-01-22T07:01:27.379Z"
   },
   {
    "duration": 5871,
    "start_time": "2023-01-22T07:01:27.422Z"
   },
   {
    "duration": 597,
    "start_time": "2023-01-22T07:01:33.294Z"
   },
   {
    "duration": 5415,
    "start_time": "2023-01-22T07:01:33.893Z"
   },
   {
    "duration": 637,
    "start_time": "2023-01-22T07:51:22.973Z"
   },
   {
    "duration": 29,
    "start_time": "2023-01-22T07:51:23.613Z"
   },
   {
    "duration": 2,
    "start_time": "2023-01-22T07:51:23.644Z"
   },
   {
    "duration": 48,
    "start_time": "2023-01-22T07:51:23.652Z"
   },
   {
    "duration": 6703,
    "start_time": "2023-01-22T07:51:23.703Z"
   },
   {
    "duration": 684,
    "start_time": "2023-01-22T07:51:30.408Z"
   },
   {
    "duration": 7619,
    "start_time": "2023-01-22T07:51:31.094Z"
   },
   {
    "duration": 523,
    "start_time": "2023-01-23T06:24:52.117Z"
   },
   {
    "duration": 11,
    "start_time": "2023-01-23T06:24:52.642Z"
   },
   {
    "duration": 5,
    "start_time": "2023-01-23T06:24:52.655Z"
   },
   {
    "duration": 15,
    "start_time": "2023-01-23T06:24:52.662Z"
   },
   {
    "duration": 5597,
    "start_time": "2023-01-23T06:24:52.678Z"
   },
   {
    "duration": 527,
    "start_time": "2023-01-23T06:24:58.278Z"
   },
   {
    "duration": 4641,
    "start_time": "2023-01-23T06:24:58.806Z"
   }
  ],
  "colab": {
   "provenance": [],
   "toc_visible": true
  },
  "kernelspec": {
   "display_name": "Python 3 (ipykernel)",
   "language": "python",
   "name": "python3"
  },
  "language_info": {
   "codemirror_mode": {
    "name": "ipython",
    "version": 3
   },
   "file_extension": ".py",
   "mimetype": "text/x-python",
   "name": "python",
   "nbconvert_exporter": "python",
   "pygments_lexer": "ipython3",
   "version": "3.9.5"
  },
  "toc": {
   "base_numbering": 1,
   "nav_menu": {},
   "number_sections": true,
   "sideBar": true,
   "skip_h1_title": true,
   "title_cell": "Table of Contents",
   "title_sidebar": "Contents",
   "toc_cell": false,
   "toc_position": {},
   "toc_section_display": true,
   "toc_window_display": false
  }
 },
 "nbformat": 4,
 "nbformat_minor": 5
}
